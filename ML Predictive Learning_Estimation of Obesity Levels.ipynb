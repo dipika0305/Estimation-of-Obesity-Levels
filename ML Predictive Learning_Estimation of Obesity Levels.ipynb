{
  "nbformat": 4,
  "nbformat_minor": 0,
  "metadata": {
    "colab": {
      "provenance": [],
      "authorship_tag": "ABX9TyN1DcSgENNNOodv75UCzfEj",
      "include_colab_link": true
    },
    "kernelspec": {
      "name": "python3",
      "display_name": "Python 3"
    },
    "language_info": {
      "name": "python"
    }
  },
  "cells": [
    {
      "cell_type": "markdown",
      "metadata": {
        "id": "view-in-github",
        "colab_type": "text"
      },
      "source": [
        "<a href=\"https://colab.research.google.com/github/dipika0305/Estimation-of-Obesity-Levels/blob/main/ML%20Predictive%20Learning_Estimation%20of%20Obesity%20Levels.ipynb\" target=\"_parent\"><img src=\"https://colab.research.google.com/assets/colab-badge.svg\" alt=\"Open In Colab\"/></a>"
      ]
    },
    {
      "cell_type": "code",
      "execution_count": null,
      "metadata": {
        "id": "z3xbscEipOMr"
      },
      "outputs": [],
      "source": []
    }
  ]
}